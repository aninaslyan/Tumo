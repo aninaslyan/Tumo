{
 "cells": [
  {
   "cell_type": "code",
   "execution_count": 48,
   "metadata": {
    "collapsed": false,
    "deletable": true,
    "editable": true,
    "scrolled": true
   },
   "outputs": [
    {
     "name": "stdout",
     "output_type": "stream",
     "text": [
      "0.12969\n"
     ]
    }
   ],
   "source": [
    "import tensorflow as tf\n",
    "\n",
    "train_input = [[10, 7], [5, 4], [8, 3], [2, 8], [4, 8]]\n",
    "train_output = [[97], [71], [74], [78], [90]]\n",
    "\n",
    "train_input_data = [[10, 7], [5, 4], [8, 3], [2, 8], [4, 8]]\n",
    "train_output_data = [[97], [71], [74], [78], [90]]\n",
    "\n",
    "NUM_HIDDEN_LAYER_NEURONS = 3\n",
    "NUM_FEATURES = len(train_input_data[0])\n",
    "\n",
    "with tf.Graph().as_default():\n",
    "\n",
    "    input = tf.placeholder(dtype=tf.float32)\n",
    "    output = tf.placeholder(dtype=tf.float32)\n",
    "    \n",
    "    num_neurons_1 = NUM_FEATURES\n",
    "    num_neurons_2 = NUM_HIDDEN_LAYER_NEURONS\n",
    "    num_neurons_3 = 1\n",
    "\n",
    "    train_data = {input: train_input_data, output: train_output_data}\n",
    "\n",
    "    max_input = tf.reduce_max(input, 0)\n",
    "    norm_input = input/max_input\n",
    "\n",
    "    max_output = tf.reduce_max(output)\n",
    "    norm_output = output/max_output\n",
    "\n",
    "    weight_1 = tf.Variable(tf.zeros([2, 3]))\n",
    "    bias_1 = tf.Variable(tf.zeros([1, 3]))\n",
    "    weighted_sum_1 = tf.matmul(norm_input, weight_1) + bias_1   \n",
    "    activation_1 = tf.sigmoid(weighted_sum_1)\n",
    "\n",
    "    weight_2 = tf.Variable(tf.zeros([3, 1]))\n",
    "    bias_2 = tf.Variable(tf.zeros([1, 2]))\n",
    "    weighted_sum_2 = tf.matmul(activation_1, weight_2) + bias_2\n",
    "    activation_2 = tf.sigmoid(weighted_sum_2)\n",
    "\n",
    "    loss = tf.reduce_sum((activation_2 - norm_output) ** 2)/10\n",
    "    training_step = tf.train.GradientDescentOptimizer(learning_rate = 0.01).minimize(loss)\n",
    "\n",
    "    with tf.Session() as sess:\n",
    "        sess.run(tf.global_variables_initializer(), feed_dict = train_data)\n",
    "        print(sess.run(loss, feed_dict = train_data))"
   ]
  },
  {
   "cell_type": "code",
   "execution_count": null,
   "metadata": {
    "collapsed": true,
    "deletable": true,
    "editable": true
   },
   "outputs": [],
   "source": []
  }
 ],
 "metadata": {
  "kernelspec": {
   "display_name": "Python 3",
   "language": "python",
   "name": "python3"
  },
  "language_info": {
   "codemirror_mode": {
    "name": "ipython",
    "version": 3
   },
   "file_extension": ".py",
   "mimetype": "text/x-python",
   "name": "python",
   "nbconvert_exporter": "python",
   "pygments_lexer": "ipython3",
   "version": "3.6.0"
  }
 },
 "nbformat": 4,
 "nbformat_minor": 2
}
