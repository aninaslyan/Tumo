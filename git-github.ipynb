{
 "cells": [
  {
   "cell_type": "markdown",
   "metadata": {
    "deletable": true,
    "editable": true
   },
   "source": [
    "# Step 1: create an account on github\n",
    "\n",
    "www.github.com"
   ]
  },
  {
   "cell_type": "markdown",
   "metadata": {
    "deletable": true,
    "editable": true
   },
   "source": [
    "# Step 2: confirm email registration\n",
    "\n",
    "check your email"
   ]
  },
  {
   "cell_type": "markdown",
   "metadata": {
    "deletable": true,
    "editable": true
   },
   "source": [
    "# Step 3: initialize git repository"
   ]
  },
  {
   "cell_type": "code",
   "execution_count": 1,
   "metadata": {
    "collapsed": false,
    "deletable": true,
    "editable": true
   },
   "outputs": [
    {
     "name": "stdout",
     "output_type": "stream",
     "text": [
      "Initialized empty Git repository in /home/1407170009/.git/\r\n"
     ]
    }
   ],
   "source": [
    "!git init"
   ]
  },
  {
   "cell_type": "code",
   "execution_count": 2,
   "metadata": {
    "collapsed": false
   },
   "outputs": [
    {
     "name": "stdout",
     "output_type": "stream",
     "text": [
      "On branch master\r\n",
      "\r\n",
      "Initial commit\r\n",
      "\r\n",
      "Untracked files:\r\n",
      "  (use \"git add <file>...\" to include in what will be committed)\r\n",
      "\r\n",
      "\t\u001b[31m.bash_logout\u001b[m\r\n",
      "\t\u001b[31m.bashrc\u001b[m\r\n",
      "\t\u001b[31m.ipynb_checkpoints/\u001b[m\r\n",
      "\t\u001b[31m.ipython/\u001b[m\r\n",
      "\t\u001b[31m.jupyter/\u001b[m\r\n",
      "\t\u001b[31m.local/\u001b[m\r\n",
      "\t\u001b[31m.profile\u001b[m\r\n",
      "\t\u001b[31m.python_history\u001b[m\r\n",
      "\t\u001b[31m.wget-hsts\u001b[m\r\n",
      "\t\u001b[31mLesson1.ipynb\u001b[m\r\n",
      "\t\u001b[31mLesson1.py\u001b[m\r\n",
      "\t\u001b[31mLesson2.ipynb\u001b[m\r\n",
      "\t\u001b[31mLesson2_1.ipynb\u001b[m\r\n",
      "\t\u001b[31mLesson3.ipynb\u001b[m\r\n",
      "\t\u001b[31mLesson4.ipynb\u001b[m\r\n",
      "\t\u001b[31mUntitled.ipynb\u001b[m\r\n",
      "\t\u001b[31mdata.txt\u001b[m\r\n",
      "\t\u001b[31mgit-github.ipynb\u001b[m\r\n",
      "\t\u001b[31mromeo.txt\u001b[m\r\n",
      "\t\u001b[31mtobe.txt\u001b[m\r\n",
      "\t\u001b[31mtumo-tf/\u001b[m\r\n",
      "\t\u001b[31mwrite_ready.py\u001b[m\r\n",
      "\r\n",
      "nothing added to commit but untracked files present (use \"git add\" to track)\r\n"
     ]
    }
   ],
   "source": [
    "!git status"
   ]
  },
  {
   "cell_type": "code",
   "execution_count": null,
   "metadata": {
    "collapsed": true
   },
   "outputs": [],
   "source": []
  },
  {
   "cell_type": "markdown",
   "metadata": {
    "deletable": true,
    "editable": true
   },
   "source": [
    "# Step 4: adjust your username and email configuration"
   ]
  },
  {
   "cell_type": "code",
   "execution_count": 3,
   "metadata": {
    "collapsed": true,
    "deletable": true,
    "editable": true
   },
   "outputs": [],
   "source": [
    "!git config --global user.name \"github-aninaslyan\""
   ]
  },
  {
   "cell_type": "code",
   "execution_count": 4,
   "metadata": {
    "collapsed": true,
    "deletable": true,
    "editable": true
   },
   "outputs": [],
   "source": [
    "!git config --global user.email \"your-ani.naslyan@tumo.org\""
   ]
  },
  {
   "cell_type": "markdown",
   "metadata": {
    "deletable": true,
    "editable": true
   },
   "source": [
    "# Step 5: create a .gitignore file"
   ]
  },
  {
   "cell_type": "code",
   "execution_count": 5,
   "metadata": {
    "collapsed": false,
    "deletable": true,
    "editable": true
   },
   "outputs": [
    {
     "name": "stdout",
     "output_type": "stream",
     "text": [
      "Writing .gitignore\n"
     ]
    }
   ],
   "source": [
    "%%writefile .gitignore\n",
    ".*\n",
    "!/.gitignore"
   ]
  },
  {
   "cell_type": "code",
   "execution_count": null,
   "metadata": {
    "collapsed": true
   },
   "outputs": [],
   "source": []
  },
  {
   "cell_type": "code",
   "execution_count": 6,
   "metadata": {
    "collapsed": false
   },
   "outputs": [
    {
     "name": "stdout",
     "output_type": "stream",
     "text": [
      ".*\r\n",
      "!/.gitignore"
     ]
    }
   ],
   "source": [
    "!cat .gitignore"
   ]
  },
  {
   "cell_type": "code",
   "execution_count": 7,
   "metadata": {
    "collapsed": false
   },
   "outputs": [
    {
     "name": "stdout",
     "output_type": "stream",
     "text": [
      "On branch master\r\n",
      "\r\n",
      "Initial commit\r\n",
      "\r\n",
      "Untracked files:\r\n",
      "  (use \"git add <file>...\" to include in what will be committed)\r\n",
      "\r\n",
      "\t\u001b[31m.gitignore\u001b[m\r\n",
      "\t\u001b[31mLesson1.ipynb\u001b[m\r\n",
      "\t\u001b[31mLesson1.py\u001b[m\r\n",
      "\t\u001b[31mLesson2.ipynb\u001b[m\r\n",
      "\t\u001b[31mLesson2_1.ipynb\u001b[m\r\n",
      "\t\u001b[31mLesson3.ipynb\u001b[m\r\n",
      "\t\u001b[31mLesson4.ipynb\u001b[m\r\n",
      "\t\u001b[31mUntitled.ipynb\u001b[m\r\n",
      "\t\u001b[31mdata.txt\u001b[m\r\n",
      "\t\u001b[31mgit-github.ipynb\u001b[m\r\n",
      "\t\u001b[31mromeo.txt\u001b[m\r\n",
      "\t\u001b[31mtobe.txt\u001b[m\r\n",
      "\t\u001b[31mtumo-tf/\u001b[m\r\n",
      "\t\u001b[31mwrite_ready.py\u001b[m\r\n",
      "\r\n",
      "nothing added to commit but untracked files present (use \"git add\" to track)\r\n"
     ]
    }
   ],
   "source": [
    "!git status"
   ]
  },
  {
   "cell_type": "markdown",
   "metadata": {
    "deletable": true,
    "editable": true
   },
   "source": [
    "# Step 6: add all files with ipynb and py endings"
   ]
  },
  {
   "cell_type": "code",
   "execution_count": 10,
   "metadata": {
    "collapsed": true,
    "deletable": true,
    "editable": true
   },
   "outputs": [],
   "source": [
    "!git add ./\\*.ipynb #interactive python notebook"
   ]
  },
  {
   "cell_type": "code",
   "execution_count": 11,
   "metadata": {
    "collapsed": true,
    "deletable": true,
    "editable": true
   },
   "outputs": [],
   "source": [
    "!git add ./\\*.py"
   ]
  },
  {
   "cell_type": "code",
   "execution_count": 13,
   "metadata": {
    "collapsed": true
   },
   "outputs": [],
   "source": [
    "!git add .gitignore"
   ]
  },
  {
   "cell_type": "raw",
   "metadata": {
    "deletable": true,
    "editable": true
   },
   "source": [
    "# general command\n",
    "git add filename1, filename2, ..., filenameN"
   ]
  },
  {
   "cell_type": "code",
   "execution_count": 14,
   "metadata": {
    "collapsed": false
   },
   "outputs": [
    {
     "name": "stdout",
     "output_type": "stream",
     "text": [
      "On branch master\r\n",
      "\r\n",
      "Initial commit\r\n",
      "\r\n",
      "Changes to be committed:\r\n",
      "  (use \"git rm --cached <file>...\" to unstage)\r\n",
      "\r\n",
      "\t\u001b[32mnew file:   .gitignore\u001b[m\r\n",
      "\t\u001b[32mnew file:   Lesson1.ipynb\u001b[m\r\n",
      "\t\u001b[32mnew file:   Lesson1.py\u001b[m\r\n",
      "\t\u001b[32mnew file:   Lesson2.ipynb\u001b[m\r\n",
      "\t\u001b[32mnew file:   Lesson2_1.ipynb\u001b[m\r\n",
      "\t\u001b[32mnew file:   Lesson3.ipynb\u001b[m\r\n",
      "\t\u001b[32mnew file:   Lesson4.ipynb\u001b[m\r\n",
      "\t\u001b[32mnew file:   Untitled.ipynb\u001b[m\r\n",
      "\t\u001b[32mnew file:   git-github.ipynb\u001b[m\r\n",
      "\t\u001b[32mnew file:   write_ready.py\u001b[m\r\n",
      "\r\n",
      "Changes not staged for commit:\r\n",
      "  (use \"git add <file>...\" to update what will be committed)\r\n",
      "  (use \"git checkout -- <file>...\" to discard changes in working directory)\r\n",
      "\r\n",
      "\t\u001b[31mmodified:   git-github.ipynb\u001b[m\r\n",
      "\r\n",
      "Untracked files:\r\n",
      "  (use \"git add <file>...\" to include in what will be committed)\r\n",
      "\r\n",
      "\t\u001b[31mdata.txt\u001b[m\r\n",
      "\t\u001b[31mromeo.txt\u001b[m\r\n",
      "\t\u001b[31mtobe.txt\u001b[m\r\n",
      "\t\u001b[31mtumo-tf/\u001b[m\r\n",
      "\r\n"
     ]
    }
   ],
   "source": [
    "!git status"
   ]
  },
  {
   "cell_type": "markdown",
   "metadata": {
    "deletable": true,
    "editable": true
   },
   "source": [
    "# Step 7: commit added files"
   ]
  },
  {
   "cell_type": "code",
   "execution_count": 15,
   "metadata": {
    "collapsed": false,
    "deletable": true,
    "editable": true
   },
   "outputs": [
    {
     "name": "stdout",
     "output_type": "stream",
     "text": [
      "[master (root-commit) e2895ab] first commit\n",
      " 10 files changed, 384955 insertions(+)\n",
      " create mode 100644 .gitignore\n",
      " create mode 100644 Lesson1.ipynb\n",
      " create mode 100644 Lesson1.py\n",
      " create mode 100644 Lesson2.ipynb\n",
      " create mode 100644 Lesson2_1.ipynb\n",
      " create mode 100644 Lesson3.ipynb\n",
      " create mode 100644 Lesson4.ipynb\n",
      " create mode 100644 Untitled.ipynb\n",
      " create mode 100644 git-github.ipynb\n",
      " create mode 100644 write_ready.py\n"
     ]
    }
   ],
   "source": [
    "!git commit -m \"first commit\""
   ]
  },
  {
   "cell_type": "markdown",
   "metadata": {
    "deletable": true,
    "editable": true
   },
   "source": [
    "# Step 8: push your repository to github"
   ]
  },
  {
   "cell_type": "code",
   "execution_count": null,
   "metadata": {
    "collapsed": false,
    "deletable": true,
    "editable": true
   },
   "outputs": [],
   "source": [
    "!git push -u origin master"
   ]
  },
  {
   "cell_type": "code",
   "execution_count": 28,
   "metadata": {
    "collapsed": true
   },
   "outputs": [],
   "source": [
    "!git remote rm origin"
   ]
  },
  {
   "cell_type": "code",
   "execution_count": 29,
   "metadata": {
    "collapsed": false
   },
   "outputs": [],
   "source": [
    "!git remote add origin https://github.com/aninaslyan/Tumo.github"
   ]
  },
  {
   "cell_type": "code",
   "execution_count": 30,
   "metadata": {
    "collapsed": false
   },
   "outputs": [
    {
     "name": "stdout",
     "output_type": "stream",
     "text": [
      "origin\thttps://github.com/aninaslyan/Tumo.git (fetch)\r\n",
      "origin\thttps://github.com/aninaslyan/Tumo.git (push)\r\n"
     ]
    }
   ],
   "source": [
    "!git remote -v"
   ]
  },
  {
   "cell_type": "raw",
   "metadata": {
    "deletable": true,
    "editable": true
   },
   "source": [
    "# run this command from terminal\n",
    "git push -u origin master"
   ]
  },
  {
   "cell_type": "code",
   "execution_count": 31,
   "metadata": {
    "collapsed": true,
    "deletable": true,
    "editable": true
   },
   "outputs": [],
   "source": [
    "import random"
   ]
  },
  {
   "cell_type": "code",
   "execution_count": 34,
   "metadata": {
    "collapsed": false
   },
   "outputs": [
    {
     "name": "stdout",
     "output_type": "stream",
     "text": [
      "On branch master\r\n",
      "Your branch is up-to-date with 'origin/master'.\r\n",
      "Changes not staged for commit:\r\n",
      "  (use \"git add <file>...\" to update what will be committed)\r\n",
      "  (use \"git checkout -- <file>...\" to discard changes in working directory)\r\n",
      "\r\n",
      "\t\u001b[31mmodified:   git-github.ipynb\u001b[m\r\n",
      "\r\n",
      "Untracked files:\r\n",
      "  (use \"git add <file>...\" to include in what will be committed)\r\n",
      "\r\n",
      "\t\u001b[31mdata.txt\u001b[m\r\n",
      "\t\u001b[31mromeo.txt\u001b[m\r\n",
      "\t\u001b[31mtobe.txt\u001b[m\r\n",
      "\t\u001b[31mtumo-tf/\u001b[m\r\n",
      "\r\n",
      "no changes added to commit (use \"git add\" and/or \"git commit -a\")\r\n"
     ]
    }
   ],
   "source": [
    "!git status"
   ]
  },
  {
   "cell_type": "code",
   "execution_count": 40,
   "metadata": {
    "collapsed": false
   },
   "outputs": [
    {
     "name": "stdout",
     "output_type": "stream",
     "text": [
      "[master ca0a4be] Messsage\r\n",
      " 1 file changed, 196 insertions(+), 9 deletions(-)\r\n"
     ]
    }
   ],
   "source": [
    "!git commit -m \"Messsage\""
   ]
  },
  {
   "cell_type": "code",
   "execution_count": 39,
   "metadata": {
    "collapsed": true
   },
   "outputs": [],
   "source": [
    "!git add -u #add modified files"
   ]
  },
  {
   "cell_type": "code",
   "execution_count": null,
   "metadata": {
    "collapsed": true
   },
   "outputs": [],
   "source": []
  }
 ],
 "metadata": {
  "kernelspec": {
   "display_name": "Python 3",
   "language": "python",
   "name": "python3"
  },
  "language_info": {
   "codemirror_mode": {
    "name": "ipython",
    "version": 3
   },
   "file_extension": ".py",
   "mimetype": "text/x-python",
   "name": "python",
   "nbconvert_exporter": "python",
   "pygments_lexer": "ipython3",
   "version": "3.6.0"
  }
 },
 "nbformat": 4,
 "nbformat_minor": 2
}
