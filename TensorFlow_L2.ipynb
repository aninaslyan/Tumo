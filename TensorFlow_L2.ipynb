{
 "cells": [
  {
   "cell_type": "code",
   "execution_count": 1,
   "metadata": {
    "collapsed": false,
    "deletable": true,
    "editable": true
   },
   "outputs": [
    {
     "ename": "SyntaxError",
     "evalue": "invalid syntax (<ipython-input-1-dd128e6c42ef>, line 1)",
     "output_type": "error",
     "traceback": [
      "\u001b[0;36m  File \u001b[0;32m\"<ipython-input-1-dd128e6c42ef>\"\u001b[0;36m, line \u001b[0;32m1\u001b[0m\n\u001b[0;31m    git add .\u001b[0m\n\u001b[0m          ^\u001b[0m\n\u001b[0;31mSyntaxError\u001b[0m\u001b[0;31m:\u001b[0m invalid syntax\n"
     ]
    }
   ],
   "source": [
    "\"\"\"git add .\n",
    "git commit -m \"TensorFlow workshop Ex1\"\n",
    "git commit -m \"TensorFlow workshop Ex1\"\"\""
   ]
  },
  {
   "cell_type": "code",
   "execution_count": 92,
   "metadata": {
    "collapsed": false,
    "deletable": true,
    "editable": true
   },
   "outputs": [],
   "source": [
    "import tensorflow as tf\n",
    "\n",
    "input = tf.constant(3.2)\n",
    "#sess.run(input)\n",
    "#new \n",
    "weight = tf.Variable(2.0)\n",
    "#sess.run(weight)\n",
    "\n",
    "output = input*weight\n",
    "with tf.Session() as sess:\n",
    "    sess.run(tf.global_variables_initializer())\n",
    "    sess.run(input)\n",
    "    sess.run(weight)\n",
    "    sess.run(output)"
   ]
  },
  {
   "cell_type": "code",
   "execution_count": 99,
   "metadata": {
    "collapsed": false,
    "deletable": true,
    "editable": true
   },
   "outputs": [
    {
     "name": "stdout",
     "output_type": "stream",
     "text": [
      "10.0\n",
      "0\n",
      "8.2432\n",
      "2.576\n",
      "1\n",
      "9.14268\n",
      "2.85709\n",
      "2\n",
      "9.58163\n",
      "2.99426\n",
      "3\n",
      "9.79583\n",
      "3.0612\n",
      "4\n",
      "9.90037\n",
      "3.09386\n",
      "5\n",
      "9.95138\n",
      "3.10981\n",
      "6\n",
      "9.97627\n",
      "3.11759\n",
      "7\n",
      "9.98842\n",
      "3.12138\n",
      "8\n",
      "9.99435\n",
      "3.12323\n",
      "9\n",
      "9.99724\n",
      "3.12414\n",
      "10\n",
      "9.99865\n",
      "3.12458\n",
      "11\n",
      "9.99934\n",
      "3.12479\n",
      "12\n",
      "9.99968\n",
      "3.1249\n",
      "13\n",
      "9.99984\n",
      "3.12495\n",
      "14\n",
      "9.99992\n",
      "3.12498\n",
      "15\n",
      "9.99996\n",
      "3.12499\n",
      "16\n",
      "9.99998\n",
      "3.12499\n",
      "17\n",
      "9.99999\n",
      "3.125\n",
      "18\n",
      "10.0\n",
      "3.125\n",
      "19\n",
      "10.0\n",
      "3.125\n",
      "20\n",
      "10.0\n",
      "3.125\n"
     ]
    }
   ],
   "source": [
    "import tensorflow as tf\n",
    "\n",
    "output_ = tf.constant(10.0)\n",
    "loss = (output - output_)**2\n",
    "\n",
    "\n",
    "with tf.Session() as sess:\n",
    "    print(sess.run(output_))\n",
    "    sess.run(tf.global_variables_initializer())\n",
    "    \n",
    "    x = range(21)\n",
    "    \n",
    "    for i in x:\n",
    "        optimizer = tf.train.GradientDescentOptimizer(0.025)\n",
    "        train_step = optimizer.minimize(loss)\n",
    "        print(i)\n",
    "        sess.run(train_step)\n",
    "        print(sess.run(output))\n",
    "        print(sess.run(weight))"
   ]
  },
  {
   "cell_type": "code",
   "execution_count": null,
   "metadata": {
    "collapsed": true,
    "deletable": true,
    "editable": true
   },
   "outputs": [],
   "source": [
    "import tensorflow as tf\n",
    "\n",
    "with tf.Graph().as_default() as g:\n",
    "    with tf.Session() as sess:\n",
    "        input = [[3, 5], [4, 6], [0, 7], [5, 3], [5, 1], [4, 6], [4, 0], [-7, 8], [3, 5], [4, -1]]\n",
    "        output = [[2], [3], [8], [0], [1], [0], [4], [1], [2], [-9]]\n",
    "        \n",
    "        x_input = tf.placeholder(tf.float32, 0)\n",
    "        x_output = tf.placeholder(tf.float32, 0)\n",
    "        \n",
    "        feed_dict = {x_input: input, x_output: output}\n",
    "        \n",
    "        tf.reduce_max(input)\n",
    "        tf.reduce_max(output)\n",
    "        \n",
    "        x_output = tf.reduce_max(output)\n",
    "        x_input = tf.reduce_max(input)\n",
    "        \n",
    "        norm_input = x_input/x_output\n",
    "        norm_output = x_output/x_input\n",
    "        \n",
    "        weight = tf.Variable(tf.zeros([2, 3]))\n",
    "        bias = tf.Variable(tf.zeros(3))\n",
    "        sum = tf.matmul(norm_input, weight)*bias"
   ]
  }
 ],
 "metadata": {
  "kernelspec": {
   "display_name": "Python 3",
   "language": "python",
   "name": "python3"
  },
  "language_info": {
   "codemirror_mode": {
    "name": "ipython",
    "version": 3
   },
   "file_extension": ".py",
   "mimetype": "text/x-python",
   "name": "python",
   "nbconvert_exporter": "python",
   "pygments_lexer": "ipython3",
   "version": "3.6.0"
  }
 },
 "nbformat": 4,
 "nbformat_minor": 2
}
